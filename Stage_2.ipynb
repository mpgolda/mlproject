{
 "cells": [
  {
   "cell_type": "code",
   "execution_count": 1,
   "id": "c6455fa7",
   "metadata": {},
   "outputs": [],
   "source": [
    "import numpy as np\n",
    "import pandas as pd\n",
    "from sklearn import linear_model\n",
    "from sklearn.linear_model import LinearRegression\n",
    "from sklearn.metrics import mean_squared_error as mse\n",
    "import matplotlib.pyplot as plt\n",
    "import datetime\n",
    "import seaborn as sns"
   ]
  },
  {
   "cell_type": "code",
   "execution_count": 2,
   "id": "90408b7d",
   "metadata": {},
   "outputs": [],
   "source": [
    "# reading train data\n",
    "train_data = pd.read_json(\"./data/train.json\")"
   ]
  },
  {
   "cell_type": "code",
   "execution_count": 3,
   "id": "2d38b9f8",
   "metadata": {},
   "outputs": [],
   "source": [
    "# converting date time\n",
    "train_data['time'] = pd.to_datetime(train_data['timestamp'])\n",
    "train_data = train_data.set_index('time')"
   ]
  },
  {
   "cell_type": "code",
   "execution_count": 4,
   "id": "582e8a0e",
   "metadata": {},
   "outputs": [],
   "source": [
    "# removing unnecessary columns\n",
    "train_data.drop(['reportingGroup','locationName','unit'], axis = 1,inplace=True)"
   ]
  },
  {
   "cell_type": "code",
   "execution_count": 5,
   "id": "ea9e7582",
   "metadata": {},
   "outputs": [
    {
     "data": {
      "text/plain": [
       "1089"
      ]
     },
     "execution_count": 5,
     "metadata": {},
     "output_type": "execute_result"
    }
   ],
   "source": [
    "# number of training samples in the data\n",
    "train_data.shape[0]"
   ]
  },
  {
   "cell_type": "code",
   "execution_count": 6,
   "id": "8004b864",
   "metadata": {},
   "outputs": [],
   "source": [
    "# expnding time to year, month and day\n",
    "train_data[\"year\"] = train_data[\"timestamp\"].dt.strftime('%Y').astype(\"int\")\n",
    "train_data[\"month\"] = train_data[\"timestamp\"].dt.strftime('%m').astype(\"int\")\n",
    "train_data[\"day\"] = train_data[\"timestamp\"].dt.strftime('%d').astype(\"int\")"
   ]
  },
  {
   "cell_type": "code",
   "execution_count": 7,
   "id": "5e114f3d",
   "metadata": {},
   "outputs": [],
   "source": [
    "train_data.drop('timestamp',axis = 1, inplace= True)"
   ]
  },
  {
   "cell_type": "code",
   "execution_count": 8,
   "id": "9d93e4dd",
   "metadata": {},
   "outputs": [
    {
     "data": {
      "text/html": [
       "<div>\n",
       "<style scoped>\n",
       "    .dataframe tbody tr th:only-of-type {\n",
       "        vertical-align: middle;\n",
       "    }\n",
       "\n",
       "    .dataframe tbody tr th {\n",
       "        vertical-align: top;\n",
       "    }\n",
       "\n",
       "    .dataframe thead th {\n",
       "        text-align: right;\n",
       "    }\n",
       "</style>\n",
       "<table border=\"1\" class=\"dataframe\">\n",
       "  <thead>\n",
       "    <tr style=\"text-align: right;\">\n",
       "      <th></th>\n",
       "      <th>value</th>\n",
       "      <th>year</th>\n",
       "      <th>month</th>\n",
       "      <th>day</th>\n",
       "    </tr>\n",
       "    <tr>\n",
       "      <th>time</th>\n",
       "      <th></th>\n",
       "      <th></th>\n",
       "      <th></th>\n",
       "      <th></th>\n",
       "    </tr>\n",
       "  </thead>\n",
       "  <tbody>\n",
       "    <tr>\n",
       "      <th>2019-01-08</th>\n",
       "      <td>0.00</td>\n",
       "      <td>2019</td>\n",
       "      <td>1</td>\n",
       "      <td>8</td>\n",
       "    </tr>\n",
       "    <tr>\n",
       "      <th>2019-01-09</th>\n",
       "      <td>0.00</td>\n",
       "      <td>2019</td>\n",
       "      <td>1</td>\n",
       "      <td>9</td>\n",
       "    </tr>\n",
       "    <tr>\n",
       "      <th>2019-01-10</th>\n",
       "      <td>0.00</td>\n",
       "      <td>2019</td>\n",
       "      <td>1</td>\n",
       "      <td>10</td>\n",
       "    </tr>\n",
       "    <tr>\n",
       "      <th>2019-01-11</th>\n",
       "      <td>20.10</td>\n",
       "      <td>2019</td>\n",
       "      <td>1</td>\n",
       "      <td>11</td>\n",
       "    </tr>\n",
       "    <tr>\n",
       "      <th>2019-01-12</th>\n",
       "      <td>30.56</td>\n",
       "      <td>2019</td>\n",
       "      <td>1</td>\n",
       "      <td>12</td>\n",
       "    </tr>\n",
       "  </tbody>\n",
       "</table>\n",
       "</div>"
      ],
      "text/plain": [
       "            value  year  month  day\n",
       "time                               \n",
       "2019-01-08   0.00  2019      1    8\n",
       "2019-01-09   0.00  2019      1    9\n",
       "2019-01-10   0.00  2019      1   10\n",
       "2019-01-11  20.10  2019      1   11\n",
       "2019-01-12  30.56  2019      1   12"
      ]
     },
     "execution_count": 8,
     "metadata": {},
     "output_type": "execute_result"
    }
   ],
   "source": [
    "# preview the data\n",
    "train_data.head()"
   ]
  },
  {
   "cell_type": "code",
   "execution_count": 9,
   "id": "d1e20b6d",
   "metadata": {},
   "outputs": [
    {
     "data": {
      "text/plain": [
       "<AxesSubplot:xlabel='time'>"
      ]
     },
     "execution_count": 9,
     "metadata": {},
     "output_type": "execute_result"
    },
    {
     "data": {
      "image/png": "[encoded data removed]",
      "text/plain": [
       "<Figure size 864x216 with 1 Axes>"
      ]
     },
     "metadata": {
      "needs_background": "light"
     },
     "output_type": "display_data"
    }
   ],
   "source": [
    "# visualize the data date vs value\n",
    "\n",
    "train_data.value.plot(figsize=(12,3))\n"
   ]
  },
  {
   "cell_type": "code",
   "execution_count": 10,
   "id": "40a8004e",
   "metadata": {},
   "outputs": [],
   "source": [
    "def select_features(df,col_names):\n",
    "    return df[col_names]"
   ]
  },
  {
   "cell_type": "code",
   "execution_count": 11,
   "id": "0f4e498e",
   "metadata": {},
   "outputs": [],
   "source": [
    "# Create the feature and label vectors\n",
    "X = select_features(train_data,['year','month','day'])\n",
    "# value is the energy consumption that we need to predict\n",
    "y = train_data['value']"
   ]
  },
  {
   "cell_type": "code",
   "execution_count": 12,
   "id": "622dc669",
   "metadata": {},
   "outputs": [],
   "source": [
    "from sklearn.model_selection import train_test_split \n",
    "\n",
    "\n",
    "# Split the dataset into a training set and a test set like:\n",
    "# X_train, X_val, y_train, y_val\n",
    "\n",
    "\n",
    "X_train, X_val, y_train, y_val = train_test_split(X, y, test_size=0.33, random_state=42)"
   ]
  },
  {
   "cell_type": "code",
   "execution_count": 13,
   "id": "3fb69a13",
   "metadata": {},
   "outputs": [],
   "source": [
    "# Fitting a linear regression model\n",
    "# Predicting label values based on features and calculate the training error\n",
    "\n",
    "def train_model(x_tr, y_tr):\n",
    "    \n",
    "    regr = LinearRegression()\n",
    "    regr.fit(x_tr,y_tr)\n",
    "\n",
    "    y_pred = regr.predict(x_tr)   \n",
    "    tr_error = mse(y_tr,y_pred)\n",
    "\n",
    "\n",
    "    print('The training error is: ', tr_error)    # print the training error\n",
    "    print(\"w1 = \", regr.coef_)   # print the learnt w1\n",
    "    print(\"w0 = \",regr.intercept_) # print the learnt w0\n",
    "    \n",
    "    return regr,tr_error"
   ]
  },
  {
   "cell_type": "code",
   "execution_count": 14,
   "id": "b4ae9c6e",
   "metadata": {},
   "outputs": [
    {
     "name": "stdout",
     "output_type": "stream",
     "text": [
      "The training error is:  406.27955041975815\n",
      "w1 =  [-7.57764748  2.6236124  -0.03978154]\n",
      "w0 =  15321.4615115911\n"
     ]
    },
    {
     "data": {
      "text/plain": [
       "(LinearRegression(), 406.27955041975815)"
      ]
     },
     "execution_count": 14,
     "metadata": {},
     "output_type": "execute_result"
    }
   ],
   "source": [
    "# The model performance is poor with current features\n",
    "train_model(X_train,y_train)"
   ]
  },
  {
   "cell_type": "markdown",
   "id": "f2a05aac",
   "metadata": {},
   "source": [
    "#### Feature engineering of lag values"
   ]
  },
  {
   "cell_type": "code",
   "execution_count": 15,
   "id": "6dfedcc2",
   "metadata": {},
   "outputs": [],
   "source": [
    "\n",
    "# We are trying adding previous day's energy consumption (as lag_1_value column) as a new feature to the data\n",
    "\n",
    "def get_lag(df,lag=1):\n",
    "    \n",
    "    return df['value'].shift(lag).fillna(0)"
   ]
  },
  {
   "cell_type": "code",
   "execution_count": 16,
   "id": "53a18628",
   "metadata": {},
   "outputs": [],
   "source": [
    "train_data = train_data.sort_index()\n",
    "train_data['lag_1_value'] = get_lag(train_data)\n"
   ]
  },
  {
   "cell_type": "code",
   "execution_count": 17,
   "id": "4959d8f1",
   "metadata": {},
   "outputs": [
    {
     "data": {
      "text/plain": [
       "<AxesSubplot:xlabel='value', ylabel='lag_1_value'>"
      ]
     },
     "execution_count": 17,
     "metadata": {},
     "output_type": "execute_result"
    },
    {
     "data": {
      "image/png": "[encoded data removed]",
      "text/plain": [
       "<Figure size 432x288 with 1 Axes>"
      ]
     },
     "metadata": {
      "needs_background": "light"
     },
     "output_type": "display_data"
    }
   ],
   "source": [
    "# Visualizing previous days energy consumption with value\n",
    "sns.scatterplot(x=\"value\",y=\"lag_1_value\",data=train_data)\n",
    "# as you can see there is some linear relationship between previous energy consumption and current day's\n",
    "# energy consumption"
   ]
  },
  {
   "cell_type": "code",
   "execution_count": 18,
   "id": "785e5717",
   "metadata": {},
   "outputs": [
    {
     "data": {
      "text/html": [
       "<div>\n",
       "<style scoped>\n",
       "    .dataframe tbody tr th:only-of-type {\n",
       "        vertical-align: middle;\n",
       "    }\n",
       "\n",
       "    .dataframe tbody tr th {\n",
       "        vertical-align: top;\n",
       "    }\n",
       "\n",
       "    .dataframe thead th {\n",
       "        text-align: right;\n",
       "    }\n",
       "</style>\n",
       "<table border=\"1\" class=\"dataframe\">\n",
       "  <thead>\n",
       "    <tr style=\"text-align: right;\">\n",
       "      <th></th>\n",
       "      <th>value</th>\n",
       "      <th>year</th>\n",
       "      <th>month</th>\n",
       "      <th>day</th>\n",
       "      <th>lag_1_value</th>\n",
       "    </tr>\n",
       "  </thead>\n",
       "  <tbody>\n",
       "    <tr>\n",
       "      <th>value</th>\n",
       "      <td>1.000000</td>\n",
       "      <td>-0.258338</td>\n",
       "      <td>0.366050</td>\n",
       "      <td>-0.015913</td>\n",
       "      <td>0.502360</td>\n",
       "    </tr>\n",
       "    <tr>\n",
       "      <th>year</th>\n",
       "      <td>-0.258338</td>\n",
       "      <td>1.000000</td>\n",
       "      <td>-0.012777</td>\n",
       "      <td>-0.010613</td>\n",
       "      <td>-0.256751</td>\n",
       "    </tr>\n",
       "    <tr>\n",
       "      <th>month</th>\n",
       "      <td>0.366050</td>\n",
       "      <td>-0.012777</td>\n",
       "      <td>1.000000</td>\n",
       "      <td>-0.003704</td>\n",
       "      <td>0.371455</td>\n",
       "    </tr>\n",
       "    <tr>\n",
       "      <th>day</th>\n",
       "      <td>-0.015913</td>\n",
       "      <td>-0.010613</td>\n",
       "      <td>-0.003704</td>\n",
       "      <td>1.000000</td>\n",
       "      <td>-0.016984</td>\n",
       "    </tr>\n",
       "    <tr>\n",
       "      <th>lag_1_value</th>\n",
       "      <td>0.502360</td>\n",
       "      <td>-0.256751</td>\n",
       "      <td>0.371455</td>\n",
       "      <td>-0.016984</td>\n",
       "      <td>1.000000</td>\n",
       "    </tr>\n",
       "  </tbody>\n",
       "</table>\n",
       "</div>"
      ],
      "text/plain": [
       "                value      year     month       day  lag_1_value\n",
       "value        1.000000 -0.258338  0.366050 -0.015913     0.502360\n",
       "year        -0.258338  1.000000 -0.012777 -0.010613    -0.256751\n",
       "month        0.366050 -0.012777  1.000000 -0.003704     0.371455\n",
       "day         -0.015913 -0.010613 -0.003704  1.000000    -0.016984\n",
       "lag_1_value  0.502360 -0.256751  0.371455 -0.016984     1.000000"
      ]
     },
     "execution_count": 18,
     "metadata": {},
     "output_type": "execute_result"
    }
   ],
   "source": [
    "# checking the correlation\n",
    "train_data.corr()"
   ]
  },
  {
   "cell_type": "code",
   "execution_count": 19,
   "id": "7d801713",
   "metadata": {},
   "outputs": [],
   "source": [
    "# building model with added feature lag_1_value\n",
    "X = select_features(train_data,['year','month','day','lag_1_value'])\n",
    "y = train_data['value']"
   ]
  },
  {
   "cell_type": "code",
   "execution_count": 20,
   "id": "d6f5c2da",
   "metadata": {},
   "outputs": [],
   "source": [
    "X_train, X_val, y_train, y_val = train_test_split(X, y, test_size=0.33, random_state=42)"
   ]
  },
  {
   "cell_type": "code",
   "execution_count": 21,
   "id": "5fe39670",
   "metadata": {},
   "outputs": [
    {
     "name": "stdout",
     "output_type": "stream",
     "text": [
      "The training error is:  330.85681918861064\n",
      "w1 =  [-4.45996585  1.46300481  0.00461508  0.43842243]\n",
      "w0 =  9016.945937617918\n"
     ]
    },
    {
     "data": {
      "text/plain": [
       "(LinearRegression(), 330.85681918861064)"
      ]
     },
     "execution_count": 21,
     "metadata": {},
     "output_type": "execute_result"
    }
   ],
   "source": [
    "# There is no much improvement to the model still\n",
    "train_model(X_train,y_train)"
   ]
  },
  {
   "cell_type": "markdown",
   "id": "0c2c5480",
   "metadata": {},
   "source": [
    "#### Adding rolling mean as a feature"
   ]
  },
  {
   "cell_type": "code",
   "execution_count": 22,
   "id": "e6c79acb",
   "metadata": {},
   "outputs": [],
   "source": [
    "# it might be a good idea to add previous n days average consumption as a new feature,\n",
    "# currently previous 2 days average is calculated as it gives good performance \n",
    "# and stored as mov_avg_3_day column\n",
    "def move_avg(df,days = 3):\n",
    "    \n",
    "    return df['value'].rolling(days).mean().fillna(0)"
   ]
  },
  {
   "cell_type": "code",
   "execution_count": 23,
   "id": "4ce18be2",
   "metadata": {},
   "outputs": [],
   "source": [
    "# moving average of three days\n",
    "train_data['mov_avg_2_day'] = move_avg(train_data,2)"
   ]
  },
  {
   "cell_type": "code",
   "execution_count": 24,
   "id": "d1714672",
   "metadata": {},
   "outputs": [
    {
     "data": {
      "text/plain": [
       "<AxesSubplot:xlabel='value', ylabel='mov_avg_2_day'>"
      ]
     },
     "execution_count": 24,
     "metadata": {},
     "output_type": "execute_result"
    },
    {
     "data": {
      "image/png": "[encoded data removed]",
      "text/plain": [
       "<Figure size 432x288 with 1 Axes>"
      ]
     },
     "metadata": {
      "needs_background": "light"
     },
     "output_type": "display_data"
    }
   ],
   "source": [
    "# Visualizing previous 2 days energy consumption average with value\n",
    "sns.scatterplot(x=\"value\",y=\"mov_avg_2_day\",data=train_data)\n",
    "# previous 2 days energy consumption average seems to have a positive correlation with energy consumption\n",
    "# this might be a good feature for our model"
   ]
  },
  {
   "cell_type": "code",
   "execution_count": 25,
   "id": "206cfed7",
   "metadata": {},
   "outputs": [
    {
     "data": {
      "text/html": [
       "<div>\n",
       "<style scoped>\n",
       "    .dataframe tbody tr th:only-of-type {\n",
       "        vertical-align: middle;\n",
       "    }\n",
       "\n",
       "    .dataframe tbody tr th {\n",
       "        vertical-align: top;\n",
       "    }\n",
       "\n",
       "    .dataframe thead th {\n",
       "        text-align: right;\n",
       "    }\n",
       "</style>\n",
       "<table border=\"1\" class=\"dataframe\">\n",
       "  <thead>\n",
       "    <tr style=\"text-align: right;\">\n",
       "      <th></th>\n",
       "      <th>value</th>\n",
       "      <th>year</th>\n",
       "      <th>month</th>\n",
       "      <th>day</th>\n",
       "      <th>lag_1_value</th>\n",
       "      <th>mov_avg_2_day</th>\n",
       "    </tr>\n",
       "  </thead>\n",
       "  <tbody>\n",
       "    <tr>\n",
       "      <th>value</th>\n",
       "      <td>1.000000</td>\n",
       "      <td>-0.258338</td>\n",
       "      <td>0.366050</td>\n",
       "      <td>-0.015913</td>\n",
       "      <td>0.502360</td>\n",
       "      <td>0.866621</td>\n",
       "    </tr>\n",
       "    <tr>\n",
       "      <th>year</th>\n",
       "      <td>-0.258338</td>\n",
       "      <td>1.000000</td>\n",
       "      <td>-0.012777</td>\n",
       "      <td>-0.010613</td>\n",
       "      <td>-0.256751</td>\n",
       "      <td>-0.297153</td>\n",
       "    </tr>\n",
       "    <tr>\n",
       "      <th>month</th>\n",
       "      <td>0.366050</td>\n",
       "      <td>-0.012777</td>\n",
       "      <td>1.000000</td>\n",
       "      <td>-0.003704</td>\n",
       "      <td>0.371455</td>\n",
       "      <td>0.425465</td>\n",
       "    </tr>\n",
       "    <tr>\n",
       "      <th>day</th>\n",
       "      <td>-0.015913</td>\n",
       "      <td>-0.010613</td>\n",
       "      <td>-0.003704</td>\n",
       "      <td>1.000000</td>\n",
       "      <td>-0.016984</td>\n",
       "      <td>-0.018978</td>\n",
       "    </tr>\n",
       "    <tr>\n",
       "      <th>lag_1_value</th>\n",
       "      <td>0.502360</td>\n",
       "      <td>-0.256751</td>\n",
       "      <td>0.371455</td>\n",
       "      <td>-0.016984</td>\n",
       "      <td>1.000000</td>\n",
       "      <td>0.866791</td>\n",
       "    </tr>\n",
       "    <tr>\n",
       "      <th>mov_avg_2_day</th>\n",
       "      <td>0.866621</td>\n",
       "      <td>-0.297153</td>\n",
       "      <td>0.425465</td>\n",
       "      <td>-0.018978</td>\n",
       "      <td>0.866791</td>\n",
       "      <td>1.000000</td>\n",
       "    </tr>\n",
       "  </tbody>\n",
       "</table>\n",
       "</div>"
      ],
      "text/plain": [
       "                  value      year     month       day  lag_1_value  \\\n",
       "value          1.000000 -0.258338  0.366050 -0.015913     0.502360   \n",
       "year          -0.258338  1.000000 -0.012777 -0.010613    -0.256751   \n",
       "month          0.366050 -0.012777  1.000000 -0.003704     0.371455   \n",
       "day           -0.015913 -0.010613 -0.003704  1.000000    -0.016984   \n",
       "lag_1_value    0.502360 -0.256751  0.371455 -0.016984     1.000000   \n",
       "mov_avg_2_day  0.866621 -0.297153  0.425465 -0.018978     0.866791   \n",
       "\n",
       "               mov_avg_2_day  \n",
       "value               0.866621  \n",
       "year               -0.297153  \n",
       "month               0.425465  \n",
       "day                -0.018978  \n",
       "lag_1_value         0.866791  \n",
       "mov_avg_2_day       1.000000  "
      ]
     },
     "execution_count": 25,
     "metadata": {},
     "output_type": "execute_result"
    }
   ],
   "source": [
    "# checking correlation again\n",
    "train_data.corr()\n",
    "# as you can see there is 0.86 correlation which is higher"
   ]
  },
  {
   "cell_type": "code",
   "execution_count": 27,
   "id": "5bcdaa6b",
   "metadata": {},
   "outputs": [
    {
     "name": "stdout",
     "output_type": "stream",
     "text": [
      "The training error is:  4.637500782103636e-28\n",
      "w1 =  [ 4.87579229e-15 -9.58396038e-16  5.11225914e-16 -1.00000000e+00\n",
      "  2.00000000e+00]\n",
      "w0 =  -9.837464176598587e-12\n"
     ]
    }
   ],
   "source": [
    "# feature \n",
    "X = select_features(train_data,['year','month','day','lag_1_value', 'mov_avg_2_day'])\n",
    "y = train_data['value']\n",
    "\n",
    "X_train, X_val, y_train, y_val = train_test_split(X, y, test_size=0.33, random_state=42)\n",
    "\n",
    "reg_model,tr_error = train_model(X_train, y_train)\n",
    "# this model seems to be a good model for our use case"
   ]
  },
  {
   "cell_type": "code",
   "execution_count": 28,
   "id": "ebadb426",
   "metadata": {},
   "outputs": [],
   "source": [
    "# validating the best model \n",
    "y_pred = reg_model.predict(X_val)\n",
    "val_error = mse(y_val, y_pred)"
   ]
  },
  {
   "cell_type": "code",
   "execution_count": 29,
   "id": "37baacf8",
   "metadata": {},
   "outputs": [
    {
     "name": "stdout",
     "output_type": "stream",
     "text": [
      "The test error is:  4.731332487049785e-28\n"
     ]
    }
   ],
   "source": [
    "print('The test error is: ', val_error)    # print the validation error\n",
    "# the model seems to have a good fit in terms of training and validation error."
   ]
  },
  {
   "cell_type": "code",
   "execution_count": 30,
   "id": "5334bf36",
   "metadata": {},
   "outputs": [],
   "source": [
    "# as we are now clear with feature selection\n",
    "# we need to focus on making sure our model is performing well on\n",
    "# most of the dataset\n",
    "# hence we are using k-fold validation with the features consustructed\n"
   ]
  },
  {
   "cell_type": "code",
   "execution_count": 32,
   "id": "2bdc7105",
   "metadata": {},
   "outputs": [
    {
     "name": "stdout",
     "output_type": "stream",
     "text": [
      "______________KFOLD:1_______________\n",
      "The training error is:  3.940719812141861e-28\n",
      "w1 =  [ 7.65084775e-16 -1.47648772e-15  3.53210326e-16 -1.00000000e+00\n",
      "  2.00000000e+00]\n",
      "w0 =  -1.5241141682054149e-12\n",
      "The validation error is:  3.6071324065450385e-28\n",
      "Test error for the split is :  3.8465899148093065e-28\n",
      "______________KFOLD:2_______________\n",
      "The training error is:  6.017520184898926e-28\n",
      "w1 =  [-3.64933133e-15 -1.23631418e-15  2.39610805e-16 -1.00000000e+00\n",
      "  2.00000000e+00]\n",
      "w0 =  7.396749879262643e-12\n",
      "The validation error is:  5.9431846482628535e-28\n",
      "Test error for the split is :  5.45455895363097e-28\n",
      "______________KFOLD:3_______________\n",
      "The training error is:  4.0348908076162444e-28\n",
      "w1 =  [ 8.27730713e-15 -1.93341318e-17  6.60413371e-17 -1.00000000e+00\n",
      "  2.00000000e+00]\n",
      "w0 =  -1.6715517858756357e-11\n",
      "The validation error is:  5.516651039689696e-28\n",
      "Test error for the split is :  3.6323669989178696e-28\n",
      "______________KFOLD:4_______________\n",
      "The training error is:  5.710200451809087e-27\n",
      "w1 =  [ 5.78961544e-15 -3.40083828e-15 -2.32781656e-16 -1.00000000e+00\n",
      "  2.00000000e+00]\n",
      "w0 =  -1.1638690011750441e-11\n",
      "The validation error is:  5.522318855649762e-27\n",
      "Test error for the split is :  4.750611847099671e-27\n",
      "______________KFOLD:5_______________\n",
      "The training error is:  3.64901257939936e-27\n",
      "w1 =  [ 6.36530209e-15  8.53854098e-16 -1.09143244e-17 -1.00000000e+00\n",
      "  2.00000000e+00]\n",
      "w0 =  -1.2850165376221412e-11\n",
      "The validation error is:  3.2094872234036055e-27\n",
      "Test error for the split is :  3.1819661418960706e-27\n",
      "Average training error 2.1517052223348304e-27\n",
      "Average validation error 2.047700577700625e-27\n",
      "Average test error 1.8451859151463115e-27\n"
     ]
    }
   ],
   "source": [
    "from sklearn.model_selection import KFold\n",
    "\n",
    "kfold = KFold(5)\n",
    "# we train on each fold of X_train and we hold X_test as our test test\n",
    "data = X_train.to_numpy()\n",
    "Y = y_train.to_numpy()\n",
    "i=0\n",
    "\n",
    "avg_train = []\n",
    "avg_val = []\n",
    "avg_test = []\n",
    "\n",
    "for train, test in kfold.split(data):\n",
    "    print(f\"______________KFOLD:{i+1}_______________\")\n",
    "    x_train = data[train]\n",
    "    y_t = Y[train]\n",
    "    x_test = data[test]\n",
    "    y_v = Y[test]\n",
    "    k_reg_model , tr_error = train_model(x_train,y_t)\n",
    "    avg_train.append(tr_error)\n",
    "    i+=1\n",
    "    y_pred = k_reg_model.predict(x_test)\n",
    "    val_error = mse(y_v,y_pred)\n",
    "    avg_val.append(val_error)\n",
    "    print('The validation error is: ', val_error) \n",
    "    y_pred = k_reg_model.predict(X_val)\n",
    "    test_error = mse(y_val,y_pred)\n",
    "    avg_test.append(test_error)\n",
    "    print('Test error for the split is : ',test_error)\n",
    "print(f\"Average training error {np.mean(avg_train)}\")\n",
    "print(f\"Average validation error {np.mean(avg_val)}\")\n",
    "print(f\"Average test error {np.mean(avg_test)}\")"
   ]
  },
  {
   "cell_type": "code",
   "execution_count": 33,
   "id": "984bec2a",
   "metadata": {},
   "outputs": [],
   "source": [
    "# from the above K-fold analysis , the first and second fold seems to be a good model to choose\n",
    "# for time series based problems, it is usual to use k-fold cross validation and \n",
    "# choose the best model out of it. Random splitting will not give a good model and you can \n",
    "# see for the random splitting of training and validation set , the model was a lower performance \n",
    "# compared to the k-fold cross validations"
   ]
  },
  {
   "cell_type": "markdown",
   "id": "a8819cc6",
   "metadata": {},
   "source": [
    "### Lasso Regression"
   ]
  },
  {
   "cell_type": "code",
   "execution_count": 34,
   "id": "21eeec16",
   "metadata": {},
   "outputs": [],
   "source": [
    "def lasso_regressor(x_tr, y_tr):\n",
    "    model = linear_model.Lasso(alpha=0.0001,max_iter=500).fit(x_tr, y_tr)\n",
    "    y_predict = model.predict(x_tr)\n",
    "    tr_error = mse(y_tr,y_predict)\n",
    "\n",
    "\n",
    "    print('The training error for Lasso regressor is: ', tr_error)    # print the training error\n",
    "    return model,tr_error"
   ]
  },
  {
   "cell_type": "code",
   "execution_count": 35,
   "id": "fcd9839a",
   "metadata": {},
   "outputs": [
    {
     "name": "stdout",
     "output_type": "stream",
     "text": [
      "The training error for Lasso regressor is:  4.577612387374193e-05\n"
     ]
    }
   ],
   "source": [
    "lasso_model,tr_er = lasso_regressor(X_train,y_train)"
   ]
  },
  {
   "cell_type": "code",
   "execution_count": 36,
   "id": "847b877c",
   "metadata": {},
   "outputs": [],
   "source": [
    "# validating the best model \n",
    "y_pred = lasso_model.predict(X_val)\n",
    "val_error = mse(y_val, y_pred)"
   ]
  },
  {
   "cell_type": "code",
   "execution_count": 37,
   "id": "ff792594",
   "metadata": {},
   "outputs": [
    {
     "name": "stdout",
     "output_type": "stream",
     "text": [
      "The test error is:  6.629736584402331e-05\n"
     ]
    }
   ],
   "source": [
    "print('The test error is: ', val_error)    # print the validation error\n",
    "# the model seems to have a good fit in terms of training and validation error."
   ]
  },
  {
   "cell_type": "code",
   "execution_count": 38,
   "id": "193136b5",
   "metadata": {},
   "outputs": [
    {
     "name": "stdout",
     "output_type": "stream",
     "text": [
      "______________KFOLD:1_______________\n",
      "The training error for Lasso regressor is:  4.287115824984893e-05\n",
      "The valiation error is:  4.182832417547397e-05\n",
      "The test error is:  6.171594623900221e-05\n",
      "______________KFOLD:2_______________\n",
      "The training error for Lasso regressor is:  3.6195303912758506e-05\n",
      "The valiation error is:  4.44406761329087e-05\n",
      "The test error is:  5.479736712787742e-05\n",
      "______________KFOLD:3_______________\n",
      "The training error for Lasso regressor is:  5.944310371273692e-05\n",
      "The valiation error is:  9.394813555580005e-05\n",
      "The test error is:  9.591451540326067e-05\n",
      "______________KFOLD:4_______________\n",
      "The training error for Lasso regressor is:  3.026926272150609e-05\n",
      "The valiation error is:  2.2493044663814368e-05\n",
      "The test error is:  4.154538118379413e-05\n",
      "______________KFOLD:5_______________\n",
      "The training error for Lasso regressor is:  3.717639391478788e-05\n",
      "The valiation error is:  2.5542106222999262e-05\n",
      "The test error is:  5.0569018551362916e-05\n",
      "Average training error 4.1191044502327664e-05\n",
      "Average validation error 4.5650457350199275e-05\n",
      "Average test error 6.090844570105947e-05\n"
     ]
    }
   ],
   "source": [
    "i=0\n",
    "\n",
    "avg_train = []\n",
    "avg_val = []\n",
    "avg_test = []\n",
    "\n",
    "for train, test in kfold.split(data):\n",
    "    print(f\"______________KFOLD:{i+1}_______________\")\n",
    "    x_train = data[train]\n",
    "    y_t = Y[train]\n",
    "    x_test = data[test]\n",
    "    y_v = Y[test]\n",
    "    k_lasso_model,tr_error = lasso_regressor(x_train,y_t)\n",
    "    avg_train.append(tr_error)\n",
    "    i+=1\n",
    "    y_pred = k_lasso_model.predict(x_test)\n",
    "    val_error = mse(y_v,y_pred)\n",
    "    avg_val.append(val_error)\n",
    "    print('The valiation error is: ', val_error) \n",
    "    y_pred = k_lasso_model.predict(X_val)\n",
    "    test_error = mse(y_val,y_pred)\n",
    "    avg_test.append(test_error)\n",
    "    print('The test error is: ', test_error)\n",
    "print(f\"Average training error {np.mean(avg_train)}\")\n",
    "print(f\"Average validation error {np.mean(avg_val)}\")\n",
    "print(f\"Average test error {np.mean(avg_test)}\")"
   ]
  },
  {
   "cell_type": "markdown",
   "id": "d487be4c",
   "metadata": {},
   "source": [
    "### Ridge regression"
   ]
  },
  {
   "cell_type": "code",
   "execution_count": 39,
   "id": "b2b1f00a",
   "metadata": {},
   "outputs": [],
   "source": [
    "def ridge_regressor(x_tr, y_tr):\n",
    "    model = linear_model.Ridge(alpha=0.001,max_iter=500).fit(x_tr, y_tr)\n",
    "    y_predict = model.predict(x_tr)\n",
    "    tr_error = mse(y_tr,y_predict)\n",
    "\n",
    "\n",
    "    print('The training error for Ridge regressor is: ', tr_error)    # print the training error\n",
    "    return model,tr_error"
   ]
  },
  {
   "cell_type": "code",
   "execution_count": 40,
   "id": "d4e8b7f3",
   "metadata": {},
   "outputs": [
    {
     "name": "stdout",
     "output_type": "stream",
     "text": [
      "The training error for Ridge regressor is:  1.730050157620543e-13\n"
     ]
    }
   ],
   "source": [
    "ridge_model,tr_error = ridge_regressor(X_train,y_train)"
   ]
  },
  {
   "cell_type": "code",
   "execution_count": 41,
   "id": "b0f69d97",
   "metadata": {},
   "outputs": [],
   "source": [
    "# validating the model \n",
    "y_pred = ridge_model.predict(X_val)\n",
    "val_error = mse(y_val, y_pred)"
   ]
  },
  {
   "cell_type": "code",
   "execution_count": 43,
   "id": "08f74ae9",
   "metadata": {},
   "outputs": [
    {
     "name": "stdout",
     "output_type": "stream",
     "text": [
      "The test error is:  2.330469965226065e-13\n"
     ]
    }
   ],
   "source": [
    "print('The test error is: ', val_error)    # print the validation error\n",
    "# the model seems to have a good fit in terms of training and validation error."
   ]
  },
  {
   "cell_type": "code",
   "execution_count": 44,
   "id": "9d2b9b34",
   "metadata": {},
   "outputs": [
    {
     "name": "stdout",
     "output_type": "stream",
     "text": [
      "______________KFOLD:1_______________\n",
      "The training error for Ridge regressor is:  2.689111486380063e-13\n",
      "The valiation error is:  2.6323720237100336e-13\n",
      "The test error is:  3.59883863215799e-13\n",
      "______________KFOLD:2_______________\n",
      "The training error for Ridge regressor is:  2.862477254759837e-13\n",
      "The valiation error is:  3.7097679339586827e-13\n",
      "The test error is:  4.0655884296444653e-13\n",
      "______________KFOLD:3_______________\n",
      "The training error for Ridge regressor is:  2.9314038486092733e-13\n",
      "The valiation error is:  4.268184211118198e-13\n",
      "The test error is:  4.3946644842117784e-13\n",
      "______________KFOLD:4_______________\n",
      "The training error for Ridge regressor is:  2.5883506872674864e-13\n",
      "The valiation error is:  2.070434190807234e-13\n",
      "The test error is:  3.3054110694177675e-13\n",
      "______________KFOLD:5_______________\n",
      "The training error for Ridge regressor is:  2.525195910234718e-13\n",
      "The valiation error is:  1.731405253599478e-13\n",
      "The test error is:  3.174135968686088e-13\n",
      "Average training error 2.7193078374502753e-13\n",
      "Average validation error 2.8824327226387254e-13\n",
      "Average test error 3.707727716823618e-13\n"
     ]
    }
   ],
   "source": [
    "i=0\n",
    "\n",
    "avg_train = []\n",
    "avg_val = []\n",
    "avg_test = []\n",
    "\n",
    "\n",
    "for train, test in kfold.split(data):\n",
    "    print(f\"______________KFOLD:{i+1}_______________\")\n",
    "    x_train = data[train]\n",
    "    y_t = Y[train]\n",
    "    x_test = data[test]\n",
    "    y_v = Y[test]\n",
    "    k_ridge_model,tr_error = ridge_regressor(x_train,y_t)\n",
    "    avg_train.append(tr_error)\n",
    "    i+=1\n",
    "    y_pred = k_ridge_model.predict(x_test)\n",
    "    val_error = mse(y_v,y_pred)\n",
    "    avg_val.append(val_error)\n",
    "    print('The valiation error is: ', val_error) \n",
    "    y_pred = k_ridge_model.predict(X_val)\n",
    "    test_error = mse(y_val,y_pred)\n",
    "    avg_test.append(test_error)\n",
    "    print('The test error is: ', test_error) \n",
    "print(f\"Average training error {np.mean(avg_train)}\")\n",
    "print(f\"Average validation error {np.mean(avg_val)}\")\n",
    "print(f\"Average test error {np.mean(avg_test)}\")"
   ]
  },
  {
   "cell_type": "code",
   "execution_count": null,
   "id": "7226403a",
   "metadata": {},
   "outputs": [],
   "source": []
  }
 ],
 "metadata": {
  "kernelspec": {
   "display_name": "Python 3 (ipykernel)",
   "language": "python",
   "name": "python3"
  },
  "language_info": {
   "codemirror_mode": {
    "name": "ipython",
    "version": 3
   },
   "file_extension": ".py",
   "mimetype": "text/x-python",
   "name": "python",
   "nbconvert_exporter": "python",
   "pygments_lexer": "ipython3",
   "version": "3.9.7"
  }
 },
 "nbformat": 4,
 "nbformat_minor": 5
}
